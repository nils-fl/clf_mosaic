{
 "cells": [
  {
   "cell_type": "markdown",
   "metadata": {},
   "source": [
    "# Visualize classification in a mosaic plot\n",
    "\n",
    "For details about the idea of a mosaic plot (not mine), read my medium article: LINK\n",
    "\n",
    "**In short:**\n",
    "This is an approach of visualizing the results of a multiclass estimator by taking the class distribution into account. The predicted classes are plotted along the y-axis and the class size on the x-axis. That way, one can immediatly see the class distribution in the data set. That makes it easier to judge the performance of the estimator."
   ]
  },
  {
   "cell_type": "markdown",
   "metadata": {},
   "source": [
    "## Imports"
   ]
  },
  {
   "cell_type": "code",
   "execution_count": 27,
   "metadata": {},
   "outputs": [],
   "source": [
    "import numpy as np\n",
    "import pandas as pd\n",
    "import matplotlib.pyplot as plt\n",
    "%matplotlib inline\n",
    "from statsmodels.graphics.mosaicplot import mosaic\n",
    "from matplotlib.patches import Patch\n",
    "import itertools\n",
    "from collections import deque"
   ]
  },
  {
   "cell_type": "code",
   "execution_count": 46,
   "metadata": {},
   "outputs": [],
   "source": [
    "def nclass_classification_mosaic_plot(n_classes, results):\n",
    "    \"\"\"\n",
    "    build a mosaic plot from the results of a classification\n",
    "    \n",
    "    parameters:\n",
    "    n_classes: number of classes\n",
    "    results: results of the prediction in form of an array of arrays\n",
    "    \n",
    "    In case of 3 classes the prdiction could look like\n",
    "    [[10, 2, 4],\n",
    "     [1, 12, 3],\n",
    "     [2, 2, 9]\n",
    "    ]\n",
    "    where there is one array for each class and each array holds the\n",
    "    predictions for each class [class 1, class 2, class 3].\n",
    "    \n",
    "    This is just a prototype including colors for 6 classes.\n",
    "    \"\"\"\n",
    "    class_lists = [range(n_classes)]*2\n",
    "    mosaic_tuples = tuple(itertools.product(*class_lists))\n",
    "    \n",
    "    res_list = results[0]\n",
    "    for i, l in enumerate(results):\n",
    "        if i == 0:\n",
    "            pass\n",
    "        else:\n",
    "            tmp = deque(l)\n",
    "            tmp.rotate(-i)\n",
    "            res_list.extend(tmp)\n",
    "    data = {t:res_list[i] for i,t in enumerate(mosaic_tuples)}\n",
    "\n",
    "    fig, ax = plt.subplots(figsize=(11, 10))\n",
    "    plt.rcParams.update({'font.size': 16})\n",
    "\n",
    "    font_color = '#2c3e50'\n",
    "    pallet = [\n",
    "        '#6a89cc', \n",
    "        '#4a69bd', \n",
    "        '#1e3799', \n",
    "        '#0c2461',\n",
    "        '#82ccdd',\n",
    "        '#60a3bc',\n",
    "    ]\n",
    "    colors = deque(pallet[:n_classes])\n",
    "    all_colors = []\n",
    "    for i in range(n_classes):\n",
    "        if i > 0:\n",
    "            colors.rotate(-1)\n",
    "        all_colors.extend(colors)\n",
    "\n",
    "    props = {(str(a), str(b)):{'color':all_colors[i]} for i,(a, b) in enumerate(mosaic_tuples)}\n",
    "\n",
    "    labelizer = lambda k: ''\n",
    "\n",
    "    p = mosaic(data, labelizer=labelizer, properties=props, ax=ax)\n",
    "\n",
    "    title_font_dict = {\n",
    "        'fontsize': 20,\n",
    "        'color' : font_color,\n",
    "    }\n",
    "    axis_label_font_dict = {\n",
    "        'fontsize': 16,\n",
    "        'color' : font_color,\n",
    "    }\n",
    "\n",
    "    ax.tick_params(axis = \"x\", which = \"both\", bottom = False, top = False)\n",
    "    ax.axes.yaxis.set_ticks([])\n",
    "    ax.tick_params(axis='x', which='major', labelsize=14)\n",
    "\n",
    "    ax.set_title('Classification Report', fontdict=title_font_dict, pad=25)\n",
    "    ax.set_xlabel('Observed Class', fontdict=axis_label_font_dict, labelpad=10)\n",
    "    ax.set_ylabel('Predicted Class', fontdict=axis_label_font_dict, labelpad=35)\n",
    "\n",
    "    legend_elements = [Patch(facecolor=all_colors[i], label='Class {}'.format(i)) for i in range(n_classes)]\n",
    "    ax.legend(handles=legend_elements, bbox_to_anchor=(1,1.018), fontsize=16)\n",
    "\n",
    "    plt.tight_layout()\n",
    "    plt.show()"
   ]
  },
  {
   "cell_type": "code",
   "execution_count": 53,
   "metadata": {},
   "outputs": [],
   "source": [
    "n_classes = 4 # number of classes\n",
    "results = [\n",
    "    [50, 4, 1, 2], # predictions for class 1\n",
    "    [1, 40, 4, 3], # predictions for class 2\n",
    "    [3, 2, 30, 1], # predictions for class 3\n",
    "    [1, 3, 1, 60], # predictions for class 4\n",
    "]"
   ]
  },
  {
   "cell_type": "code",
   "execution_count": 54,
   "metadata": {},
   "outputs": [
    {
     "data": {
      "image/png": "[encoded data removed]",
      "text/plain": [
       "<Figure size 792x720 with 3 Axes>"
      ]
     },
     "metadata": {
      "needs_background": "light"
     },
     "output_type": "display_data"
    }
   ],
   "source": [
    "nclass_classification_mosaic_plot(n_classes, results)"
   ]
  },
  {
   "cell_type": "code",
   "execution_count": null,
   "metadata": {},
   "outputs": [],
   "source": []
  }
 ],
 "metadata": {
  "kernelspec": {
   "display_name": "Python 3",
   "language": "python",
   "name": "python3"
  },
  "language_info": {
   "codemirror_mode": {
    "name": "ipython",
    "version": 3
   },
   "file_extension": ".py",
   "mimetype": "text/x-python",
   "name": "python",
   "nbconvert_exporter": "python",
   "pygments_lexer": "ipython3",
   "version": "3.7.6"
  }
 },
 "nbformat": 4,
 "nbformat_minor": 4
}
